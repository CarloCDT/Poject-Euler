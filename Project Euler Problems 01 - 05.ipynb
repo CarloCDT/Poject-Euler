{
 "cells": [
  {
   "cell_type": "markdown",
   "metadata": {},
   "source": [
    "# Project Euler : Problems 1 - 5"
   ]
  },
  {
   "cell_type": "code",
   "execution_count": 4,
   "metadata": {
    "ExecuteTime": {
     "end_time": "2020-02-07T14:03:12.801753Z",
     "start_time": "2020-02-07T14:03:12.778119Z"
    }
   },
   "outputs": [
    {
     "name": "stdout",
     "output_type": "stream",
     "text": [
      "233168\n"
     ]
    }
   ],
   "source": [
    "# Project Euler - Problem 1\n",
    "\n",
    "suma = 0 \n",
    "for i in range(1000):\n",
    "    if i%3==0 or i%5==0:\n",
    "        suma += i\n",
    "print(suma)"
   ]
  },
  {
   "cell_type": "code",
   "execution_count": 9,
   "metadata": {
    "ExecuteTime": {
     "end_time": "2020-02-07T14:08:01.133019Z",
     "start_time": "2020-02-07T14:08:00.787576Z"
    }
   },
   "outputs": [
    {
     "name": "stdout",
     "output_type": "stream",
     "text": [
      "4613732\n"
     ]
    }
   ],
   "source": [
    "# Project Euler - Problem 2\n",
    "\n",
    "import numpy as np\n",
    "\n",
    "fibonacci = [1,2]\n",
    "\n",
    "while fibonacci[-1] < 4*10**6:\n",
    "    fibonacci.append(fibonacci[-1]+fibonacci[-2])\n",
    "    \n",
    "fibonacci_pares = [x for x in fibonacci if x%2==0]\n",
    "print(np.sum(fibonacci_pares))"
   ]
  },
  {
   "cell_type": "code",
   "execution_count": 20,
   "metadata": {
    "ExecuteTime": {
     "end_time": "2020-02-07T14:20:24.886298Z",
     "start_time": "2020-02-07T14:20:24.709500Z"
    }
   },
   "outputs": [
    {
     "name": "stdout",
     "output_type": "stream",
     "text": [
      "6857\n"
     ]
    }
   ],
   "source": [
    "# Project Euler - Problem 3\n",
    "\n",
    "import math\n",
    "\n",
    "num = 600851475143\n",
    "max_factor = math.ceil(math.sqrt(num))\n",
    "candidatos = []\n",
    "agregar = 1\n",
    "\n",
    "for i in range(2,max_factor):\n",
    "    if num%i==0:\n",
    "        for j in candidatos:\n",
    "            if i%j==0:\n",
    "                agregar = 0\n",
    "        if agregar == 1:\n",
    "            candidatos.append(i)\n",
    "        agregar = 1\n",
    "        \n",
    "print(candidatos[-1])"
   ]
  },
  {
   "cell_type": "code",
   "execution_count": 37,
   "metadata": {
    "ExecuteTime": {
     "end_time": "2020-02-07T14:30:50.118351Z",
     "start_time": "2020-02-07T14:30:49.566656Z"
    }
   },
   "outputs": [
    {
     "name": "stdout",
     "output_type": "stream",
     "text": [
      "906609\n"
     ]
    }
   ],
   "source": [
    "# Project Euler - Problem 4\n",
    "\n",
    "def es_palindromo(x:int):\n",
    "    x_str = str(x)\n",
    "    l = len(x_str)\n",
    "    for i in range(len(x_str)):\n",
    "        if x_str[i]!=x_str[l-1-i]:\n",
    "            return(False)\n",
    "    return(True)\n",
    "    \n",
    "candidatos = []\n",
    "\n",
    "for i in range(999,100,-1):\n",
    "    for j in range (i-1,99,-1):\n",
    "        num = i*j\n",
    "        if es_palindromo(num)==True:\n",
    "            candidatos.append(num)\n",
    "print(max(candidatos))"
   ]
  },
  {
   "cell_type": "code",
   "execution_count": 63,
   "metadata": {
    "ExecuteTime": {
     "end_time": "2020-02-07T16:51:52.615377Z",
     "start_time": "2020-02-07T16:51:52.608641Z"
    }
   },
   "outputs": [
    {
     "name": "stdout",
     "output_type": "stream",
     "text": [
      "232792560\n"
     ]
    }
   ],
   "source": [
    "# Project Euler - Problem 5 (Solución Particular)\n",
    "\n",
    "num = 2520\n",
    "new_numbers = [11,13,2,17,19]\n",
    "for i in new_numbers:\n",
    "    num = num * i\n",
    "print(num)"
   ]
  },
  {
   "cell_type": "code",
   "execution_count": 100,
   "metadata": {
    "ExecuteTime": {
     "end_time": "2020-02-07T18:40:24.290392Z",
     "start_time": "2020-02-07T18:40:24.275316Z"
    }
   },
   "outputs": [
    {
     "name": "stdout",
     "output_type": "stream",
     "text": [
      "232792560\n"
     ]
    }
   ],
   "source": [
    "# Project Euler - Problem 5 (Solución General)\n",
    "\n",
    "num_max = 20\n",
    "# Función que determina si un número es primo\n",
    "def test_prime(n):\n",
    "    if (n==1):\n",
    "        return False\n",
    "    elif (n==2):\n",
    "        return True;\n",
    "    else:\n",
    "        for x in range(2,n):\n",
    "            if(n % x==0):\n",
    "                return False\n",
    "        return True  \n",
    "    \n",
    "primos = []\n",
    "for i in range(2,num_max+1):\n",
    "    if test_prime(i)==True:\n",
    "        primos.append(i)\n",
    "\n",
    "maximos = [0]*len(primos)\n",
    "\n",
    "for i in range(2,num_max):\n",
    "    for p in primos:\n",
    "        n = i\n",
    "        cont = 0\n",
    "        while n%p==0:\n",
    "            n = int(n/p)\n",
    "            cont += 1\n",
    "        maximos[primos.index(p)] = max(cont,maximos[primos.index(p)])\n",
    "        \n",
    "resp = 1\n",
    "for i in range(len(maximos)):\n",
    "    resp *= primos[i]**maximos[i]\n",
    "print(resp)"
   ]
  }
 ],
 "metadata": {
  "kernelspec": {
   "display_name": "Python 3",
   "language": "python",
   "name": "python3"
  },
  "language_info": {
   "codemirror_mode": {
    "name": "ipython",
    "version": 3
   },
   "file_extension": ".py",
   "mimetype": "text/x-python",
   "name": "python",
   "nbconvert_exporter": "python",
   "pygments_lexer": "ipython3",
   "version": "3.7.4"
  },
  "latex_envs": {
   "LaTeX_envs_menu_present": true,
   "autoclose": false,
   "autocomplete": true,
   "bibliofile": "biblio.bib",
   "cite_by": "apalike",
   "current_citInitial": 1,
   "eqLabelWithNumbers": true,
   "eqNumInitial": 1,
   "hotkeys": {
    "equation": "Ctrl-E",
    "itemize": "Ctrl-I"
   },
   "labels_anchors": false,
   "latex_user_defs": false,
   "report_style_numbering": false,
   "user_envs_cfg": false
  },
  "toc": {
   "base_numbering": 1,
   "nav_menu": {},
   "number_sections": true,
   "sideBar": true,
   "skip_h1_title": false,
   "title_cell": "Table of Contents",
   "title_sidebar": "Contents",
   "toc_cell": false,
   "toc_position": {},
   "toc_section_display": true,
   "toc_window_display": false
  }
 },
 "nbformat": 4,
 "nbformat_minor": 2
}
