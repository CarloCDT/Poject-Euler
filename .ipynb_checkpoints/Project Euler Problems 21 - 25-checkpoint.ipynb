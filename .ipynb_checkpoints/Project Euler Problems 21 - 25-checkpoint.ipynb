{
 "cells": [
  {
   "cell_type": "markdown",
   "metadata": {
    "toc": true
   },
   "source": [
    "<h1>Table of Contents<span class=\"tocSkip\"></span></h1>\n",
    "<div class=\"toc\"><ul class=\"toc-item\"><li><span><a href=\"#Problem-#21\" data-toc-modified-id=\"Problem-#21-1\">Problem #21</a></span></li><li><span><a href=\"#Problem-#22\" data-toc-modified-id=\"Problem-#22-2\">Problem #22</a></span></li><li><span><a href=\"#Problem-#23\" data-toc-modified-id=\"Problem-#23-3\">Problem #23</a></span></li><li><span><a href=\"#Problem-#24\" data-toc-modified-id=\"Problem-#24-4\">Problem #24</a></span></li><li><span><a href=\"#Problem-#25\" data-toc-modified-id=\"Problem-#25-5\">Problem #25</a></span></li></ul></div>"
   ]
  },
  {
   "cell_type": "markdown",
   "metadata": {},
   "source": [
    "# Project Euler : Problems 21 - 23"
   ]
  },
  {
   "cell_type": "markdown",
   "metadata": {
    "ExecuteTime": {
     "end_time": "2021-04-12T21:56:12.370908Z",
     "start_time": "2021-04-12T21:56:12.032264Z"
    }
   },
   "source": [
    "## Problem #21"
   ]
  },
  {
   "cell_type": "code",
   "execution_count": 1,
   "metadata": {
    "ExecuteTime": {
     "end_time": "2021-04-14T16:49:58.505595Z",
     "start_time": "2021-04-14T16:49:55.713740Z"
    }
   },
   "outputs": [
    {
     "data": {
      "text/plain": [
       "31626"
      ]
     },
     "execution_count": 1,
     "metadata": {},
     "output_type": "execute_result"
    }
   ],
   "source": [
    "# Project Euler - Problem 21\n",
    "import numpy as np\n",
    "\n",
    "def get_divisors(n):\n",
    "    div = set()\n",
    "    for i in range(1, n//2+1):\n",
    "        if n%i==0:\n",
    "            div.add(i) \n",
    "    return div\n",
    "\n",
    "amicable = []\n",
    "\n",
    "for i in range(1,10000):\n",
    "    a = sum(get_divisors(i))\n",
    "    b = sum(get_divisors(a))\n",
    "    \n",
    "    if i == b and i!=a:\n",
    "        if a not in amicable:\n",
    "            amicable.extend([i,a])\n",
    "        \n",
    "sum(amicable)"
   ]
  },
  {
   "cell_type": "markdown",
   "metadata": {},
   "source": [
    "## Problem #22"
   ]
  },
  {
   "cell_type": "code",
   "execution_count": 2,
   "metadata": {
    "ExecuteTime": {
     "end_time": "2021-04-14T16:49:58.536592Z",
     "start_time": "2021-04-14T16:49:58.506561Z"
    }
   },
   "outputs": [
    {
     "data": {
      "text/plain": [
       "871198282"
      ]
     },
     "execution_count": 2,
     "metadata": {},
     "output_type": "execute_result"
    }
   ],
   "source": [
    "# Project Euler - Problem 22\n",
    "import json\n",
    "import string\n",
    "\n",
    "# Read json file\n",
    "with open('files/problem22.json') as f:\n",
    "    names = json.load(f)\n",
    "\n",
    "# Sort the list\n",
    "names = sorted(names)\n",
    "\n",
    "# Create letter dictionary\n",
    "letter_value = {}\n",
    "for value, letter in zip(range(len(string.ascii_lowercase)),string.ascii_uppercase):\n",
    "    letter_value[letter] = value+1\n",
    "    \n",
    "# get value\n",
    "colin = False\n",
    "ans = 0\n",
    "for idx, name in enumerate(names):\n",
    "    name_val = 0        \n",
    "    for letter in name:\n",
    "        name_val += letter_value[letter]\n",
    "    ans += name_val*(idx+1)\n",
    "ans"
   ]
  },
  {
   "cell_type": "markdown",
   "metadata": {},
   "source": [
    "## Problem #23"
   ]
  },
  {
   "cell_type": "code",
   "execution_count": 3,
   "metadata": {
    "ExecuteTime": {
     "end_time": "2021-04-14T16:50:12.988561Z",
     "start_time": "2021-04-14T16:49:58.537560Z"
    }
   },
   "outputs": [
    {
     "data": {
      "text/plain": [
       "4179871"
      ]
     },
     "execution_count": 3,
     "metadata": {},
     "output_type": "execute_result"
    }
   ],
   "source": [
    "# Project Euler - Problem 23\n",
    "\n",
    "def get_divisors(n):\n",
    "    div = set()\n",
    "    for i in range(1, n//2+1):\n",
    "        if n%i==0:\n",
    "            div.add(i) \n",
    "    return div\n",
    "\n",
    "abundant = []\n",
    "\n",
    "for i in range(12,28123):\n",
    "    if i < sum(get_divisors(i)):\n",
    "        abundant.append(i)\n",
    "\n",
    "all_nums = set(range(1,28123))\n",
    "\n",
    "for i in abundant:\n",
    "    for j in abundant:\n",
    "        if i+j in all_nums:\n",
    "            all_nums.remove(i+j)\n",
    "            \n",
    "sum(all_nums)"
   ]
  },
  {
   "cell_type": "markdown",
   "metadata": {},
   "source": [
    "## Problem #24"
   ]
  },
  {
   "cell_type": "code",
   "execution_count": null,
   "metadata": {},
   "outputs": [],
   "source": [
    "# Project Euler - Problem 24\n",
    "#TODO"
   ]
  },
  {
   "cell_type": "markdown",
   "metadata": {},
   "source": [
    "## Problem #25"
   ]
  },
  {
   "cell_type": "code",
   "execution_count": null,
   "metadata": {},
   "outputs": [],
   "source": [
    "# Project Euler - Problem 25\n",
    "#TODO"
   ]
  },
  {
   "cell_type": "markdown",
   "metadata": {},
   "source": [
    "Carlo di Francescantonio - 2021"
   ]
  }
 ],
 "metadata": {
  "kernelspec": {
   "display_name": "Python 3",
   "language": "python",
   "name": "python3"
  },
  "language_info": {
   "codemirror_mode": {
    "name": "ipython",
    "version": 3
   },
   "file_extension": ".py",
   "mimetype": "text/x-python",
   "name": "python",
   "nbconvert_exporter": "python",
   "pygments_lexer": "ipython3",
   "version": "3.8.5"
  },
  "toc": {
   "base_numbering": 1,
   "nav_menu": {},
   "number_sections": false,
   "sideBar": true,
   "skip_h1_title": true,
   "title_cell": "Table of Contents",
   "title_sidebar": "Contents",
   "toc_cell": true,
   "toc_position": {
    "height": "calc(100% - 180px)",
    "left": "10px",
    "top": "150px",
    "width": "258.275px"
   },
   "toc_section_display": true,
   "toc_window_display": true
  }
 },
 "nbformat": 4,
 "nbformat_minor": 2
}
