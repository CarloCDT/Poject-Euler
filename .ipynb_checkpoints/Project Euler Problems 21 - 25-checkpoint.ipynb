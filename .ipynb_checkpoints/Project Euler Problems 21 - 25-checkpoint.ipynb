{
 "cells": [
  {
   "cell_type": "markdown",
   "metadata": {},
   "source": [
    "# Project Euler : Problems 21 - 25"
   ]
  },
  {
   "cell_type": "code",
   "execution_count": 1,
   "metadata": {
    "ExecuteTime": {
     "end_time": "2021-04-12T21:56:12.370908Z",
     "start_time": "2021-04-12T21:56:12.032264Z"
    }
   },
   "outputs": [],
   "source": [
    "import numpy as np"
   ]
  },
  {
   "cell_type": "code",
   "execution_count": 2,
   "metadata": {
    "ExecuteTime": {
     "end_time": "2021-04-12T21:56:14.812951Z",
     "start_time": "2021-04-12T21:56:12.373042Z"
    }
   },
   "outputs": [
    {
     "data": {
      "text/plain": [
       "31626"
      ]
     },
     "execution_count": 2,
     "metadata": {},
     "output_type": "execute_result"
    }
   ],
   "source": [
    "# Project Euler - Problem 21\n",
    "\n",
    "def get_divisors(n):\n",
    "    div = set()\n",
    "    for i in range(1, n//2+1):\n",
    "        if n%i==0:\n",
    "            div.add(i) \n",
    "    return div\n",
    "\n",
    "amicable = []\n",
    "\n",
    "for i in range(1,10000):\n",
    "    a = sum(get_divisors(i))\n",
    "    b = sum(get_divisors(a))\n",
    "    \n",
    "    if i == b and i!=a:\n",
    "        if a not in amicable:\n",
    "            amicable.extend([i,a])\n",
    "        \n",
    "sum(amicable)"
   ]
  },
  {
   "cell_type": "code",
   "execution_count": 3,
   "metadata": {
    "ExecuteTime": {
     "end_time": "2021-04-12T21:56:14.819820Z",
     "start_time": "2021-04-12T21:56:14.817770Z"
    }
   },
   "outputs": [],
   "source": [
    "import json\n",
    "import string"
   ]
  },
  {
   "cell_type": "code",
   "execution_count": 4,
   "metadata": {
    "ExecuteTime": {
     "end_time": "2021-04-12T21:56:14.833945Z",
     "start_time": "2021-04-12T21:56:14.821727Z"
    }
   },
   "outputs": [
    {
     "data": {
      "text/plain": [
       "871198282"
      ]
     },
     "execution_count": 4,
     "metadata": {},
     "output_type": "execute_result"
    }
   ],
   "source": [
    "# Project Euler - Problem 22\n",
    "\n",
    "# Read json file\n",
    "with open('files/problem22.json') as f:\n",
    "    names = json.load(f)\n",
    "\n",
    "# Sort the list\n",
    "names = sorted(names)\n",
    "\n",
    "# Create letter dictionary\n",
    "letter_value = {}\n",
    "for value, letter in zip(range(len(string.ascii_lowercase)),string.ascii_uppercase):\n",
    "    letter_value[letter] = value+1\n",
    "    \n",
    "# get value\n",
    "colin = False\n",
    "ans = 0\n",
    "for idx, name in enumerate(names):\n",
    "    name_val = 0        \n",
    "    for letter in name:\n",
    "        name_val += letter_value[letter]\n",
    "    ans += name_val*(idx+1)\n",
    "ans"
   ]
  }
 ],
 "metadata": {
  "kernelspec": {
   "display_name": "Python 3",
   "language": "python",
   "name": "python3"
  },
  "language_info": {
   "codemirror_mode": {
    "name": "ipython",
    "version": 3
   },
   "file_extension": ".py",
   "mimetype": "text/x-python",
   "name": "python",
   "nbconvert_exporter": "python",
   "pygments_lexer": "ipython3",
   "version": "3.8.5"
  },
  "toc": {
   "base_numbering": 1,
   "nav_menu": {},
   "number_sections": true,
   "sideBar": true,
   "skip_h1_title": true,
   "title_cell": "Table of Contents",
   "title_sidebar": "Contents",
   "toc_cell": false,
   "toc_position": {
    "height": "calc(100% - 180px)",
    "left": "10px",
    "top": "150px",
    "width": "258.275px"
   },
   "toc_section_display": true,
   "toc_window_display": true
  }
 },
 "nbformat": 4,
 "nbformat_minor": 2
}
