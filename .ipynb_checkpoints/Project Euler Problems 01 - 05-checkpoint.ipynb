{
 "cells": [
  {
   "cell_type": "markdown",
   "metadata": {
    "toc": true
   },
   "source": [
    "<h1>Table of Contents<span class=\"tocSkip\"></span></h1>\n",
    "<div class=\"toc\"><ul class=\"toc-item\"><li><span><a href=\"#Problem-#1\" data-toc-modified-id=\"Problem-#1-1\">Problem #1</a></span></li><li><span><a href=\"#Problem-#2\" data-toc-modified-id=\"Problem-#2-2\">Problem #2</a></span></li><li><span><a href=\"#Problem-#3\" data-toc-modified-id=\"Problem-#3-3\">Problem #3</a></span></li><li><span><a href=\"#Problem-#4\" data-toc-modified-id=\"Problem-#4-4\">Problem #4</a></span></li><li><span><a href=\"#Problem-#5\" data-toc-modified-id=\"Problem-#5-5\">Problem #5</a></span></li></ul></div>"
   ]
  },
  {
   "cell_type": "markdown",
   "metadata": {},
   "source": [
    "# Project Euler : Problems 1 - 5"
   ]
  },
  {
   "cell_type": "markdown",
   "metadata": {},
   "source": [
    "## Problem #1"
   ]
  },
  {
   "cell_type": "code",
   "execution_count": 1,
   "metadata": {
    "ExecuteTime": {
     "end_time": "2021-04-13T12:34:24.844826Z",
     "start_time": "2021-04-13T12:34:24.840930Z"
    }
   },
   "outputs": [],
   "source": [
    "# Project Euler - Problem 1\n",
    "\n",
    "suma = 0 \n",
    "for i in range(1000):\n",
    "    if i%3==0 or i%5==0:\n",
    "        suma += i\n",
    "print(suma)"
   ]
  },
  {
   "cell_type": "markdown",
   "metadata": {},
   "source": [
    "## Problem #2"
   ]
  },
  {
   "cell_type": "code",
   "execution_count": 2,
   "metadata": {
    "ExecuteTime": {
     "end_time": "2021-04-13T12:34:28.974988Z",
     "start_time": "2021-04-13T12:34:24.847396Z"
    }
   },
   "outputs": [
    {
     "name": "stdout",
     "output_type": "stream",
     "text": [
      "4613732\n"
     ]
    }
   ],
   "source": [
    "# Project Euler - Problem 2\n",
    "\n",
    "import numpy as np\n",
    "\n",
    "fibonacci = [1,2]\n",
    "\n",
    "while fibonacci[-1] < 4*10**6:\n",
    "    fibonacci.append(fibonacci[-1]+fibonacci[-2])\n",
    "    \n",
    "fibonacci_pares = [x for x in fibonacci if x%2==0]\n",
    "print(np.sum(fibonacci_pares))"
   ]
  },
  {
   "cell_type": "markdown",
   "metadata": {},
   "source": [
    "## Problem #3"
   ]
  },
  {
   "cell_type": "code",
   "execution_count": 3,
   "metadata": {
    "ExecuteTime": {
     "end_time": "2021-04-13T12:34:29.080387Z",
     "start_time": "2021-04-13T12:34:28.977427Z"
    }
   },
   "outputs": [
    {
     "name": "stdout",
     "output_type": "stream",
     "text": [
      "6857\n"
     ]
    }
   ],
   "source": [
    "# Project Euler - Problem 3\n",
    "\n",
    "import math\n",
    "\n",
    "num = 600851475143\n",
    "max_factor = math.ceil(math.sqrt(num))\n",
    "candidatos = []\n",
    "agregar = 1\n",
    "\n",
    "for i in range(2,max_factor):\n",
    "    if num%i==0:\n",
    "        for j in candidatos:\n",
    "            if i%j==0:\n",
    "                agregar = 0\n",
    "        if agregar == 1:\n",
    "            candidatos.append(i)\n",
    "        agregar = 1\n",
    "        \n",
    "print(candidatos[-1])"
   ]
  },
  {
   "cell_type": "markdown",
   "metadata": {},
   "source": [
    "## Problem #4"
   ]
  },
  {
   "cell_type": "code",
   "execution_count": 4,
   "metadata": {
    "ExecuteTime": {
     "end_time": "2021-04-13T12:34:29.398113Z",
     "start_time": "2021-04-13T12:34:29.082359Z"
    }
   },
   "outputs": [
    {
     "name": "stdout",
     "output_type": "stream",
     "text": [
      "906609\n"
     ]
    }
   ],
   "source": [
    "# Project Euler - Problem 4\n",
    "\n",
    "def es_palindromo(x:int):\n",
    "    x_str = str(x)\n",
    "    l = len(x_str)\n",
    "    for i in range(len(x_str)):\n",
    "        if x_str[i]!=x_str[l-1-i]:\n",
    "            return(False)\n",
    "    return(True)\n",
    "    \n",
    "candidatos = []\n",
    "\n",
    "for i in range(999,100,-1):\n",
    "    for j in range (i-1,99,-1):\n",
    "        num = i*j\n",
    "        if es_palindromo(num)==True:\n",
    "            candidatos.append(num)\n",
    "print(max(candidatos))"
   ]
  },
  {
   "cell_type": "markdown",
   "metadata": {},
   "source": [
    "## Problem #5"
   ]
  },
  {
   "cell_type": "code",
   "execution_count": 5,
   "metadata": {
    "ExecuteTime": {
     "end_time": "2021-04-13T12:34:29.403147Z",
     "start_time": "2021-04-13T12:34:29.399793Z"
    }
   },
   "outputs": [
    {
     "name": "stdout",
     "output_type": "stream",
     "text": [
      "232792560\n"
     ]
    }
   ],
   "source": [
    "# Project Euler - Problem 5 (Particular Solution)\n",
    "\n",
    "num = 2520\n",
    "new_numbers = [11,13,2,17,19]\n",
    "for i in new_numbers:\n",
    "    num = num * i\n",
    "print(num)"
   ]
  },
  {
   "cell_type": "code",
   "execution_count": 6,
   "metadata": {
    "ExecuteTime": {
     "end_time": "2021-04-13T12:34:29.411720Z",
     "start_time": "2021-04-13T12:34:29.405081Z"
    }
   },
   "outputs": [
    {
     "name": "stdout",
     "output_type": "stream",
     "text": [
      "232792560\n"
     ]
    }
   ],
   "source": [
    "# Project Euler - Problem 5 (General Solution)\n",
    "\n",
    "num_max = 20\n",
    "# Función que determina si un número es primo\n",
    "def test_prime(n):\n",
    "    if (n==1):\n",
    "        return False\n",
    "    elif (n==2):\n",
    "        return True;\n",
    "    else:\n",
    "        for x in range(2,n):\n",
    "            if(n % x==0):\n",
    "                return False\n",
    "        return True  \n",
    "    \n",
    "primos = []\n",
    "for i in range(2,num_max+1):\n",
    "    if test_prime(i)==True:\n",
    "        primos.append(i)\n",
    "\n",
    "maximos = [0]*len(primos)\n",
    "\n",
    "for i in range(2,num_max):\n",
    "    for p in primos:\n",
    "        n = i\n",
    "        cont = 0\n",
    "        while n%p==0:\n",
    "            n = int(n/p)\n",
    "            cont += 1\n",
    "        maximos[primos.index(p)] = max(cont,maximos[primos.index(p)])\n",
    "        \n",
    "resp = 1\n",
    "for i in range(len(maximos)):\n",
    "    resp *= primos[i]**maximos[i]\n",
    "print(resp)"
   ]
  },
  {
   "cell_type": "markdown",
   "metadata": {},
   "source": [
    "Carlo di Francescantonio - 2021"
   ]
  }
 ],
 "metadata": {
  "kernelspec": {
   "display_name": "Python 3",
   "language": "python",
   "name": "python3"
  },
  "language_info": {
   "codemirror_mode": {
    "name": "ipython",
    "version": 3
   },
   "file_extension": ".py",
   "mimetype": "text/x-python",
   "name": "python",
   "nbconvert_exporter": "python",
   "pygments_lexer": "ipython3",
   "version": "3.8.5"
  },
  "latex_envs": {
   "LaTeX_envs_menu_present": true,
   "autoclose": false,
   "autocomplete": true,
   "bibliofile": "biblio.bib",
   "cite_by": "apalike",
   "current_citInitial": 1,
   "eqLabelWithNumbers": true,
   "eqNumInitial": 1,
   "hotkeys": {
    "equation": "Ctrl-E",
    "itemize": "Ctrl-I"
   },
   "labels_anchors": false,
   "latex_user_defs": false,
   "report_style_numbering": false,
   "user_envs_cfg": false
  },
  "toc": {
   "base_numbering": 1,
   "nav_menu": {},
   "number_sections": false,
   "sideBar": true,
   "skip_h1_title": true,
   "title_cell": "Table of Contents",
   "title_sidebar": "Contents",
   "toc_cell": true,
   "toc_position": {
    "height": "calc(100% - 180px)",
    "left": "10px",
    "top": "150px",
    "width": "165px"
   },
   "toc_section_display": true,
   "toc_window_display": true
  }
 },
 "nbformat": 4,
 "nbformat_minor": 2
}
