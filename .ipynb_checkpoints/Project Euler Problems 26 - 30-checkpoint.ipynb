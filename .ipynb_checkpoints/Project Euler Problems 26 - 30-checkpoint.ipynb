{
 "cells": [
  {
   "cell_type": "markdown",
   "metadata": {
    "toc": true
   },
   "source": [
    "<h1>Table of Contents<span class=\"tocSkip\"></span></h1>\n",
    "<div class=\"toc\"><ul class=\"toc-item\"><li><span><a href=\"#Problem-#26\" data-toc-modified-id=\"Problem-#26-1\">Problem #26</a></span></li><li><span><a href=\"#Problem-#27\" data-toc-modified-id=\"Problem-#27-2\">Problem #27</a></span></li><li><span><a href=\"#Problem-#28\" data-toc-modified-id=\"Problem-#28-3\">Problem #28</a></span></li><li><span><a href=\"#Problem-#29\" data-toc-modified-id=\"Problem-#29-4\">Problem #29</a></span></li><li><span><a href=\"#Problem-#30\" data-toc-modified-id=\"Problem-#30-5\">Problem #30</a></span></li></ul></div>"
   ]
  },
  {
   "cell_type": "markdown",
   "metadata": {},
   "source": [
    "# Project Euler : Problems 26 - 30"
   ]
  },
  {
   "cell_type": "markdown",
   "metadata": {
    "ExecuteTime": {
     "end_time": "2021-04-12T21:56:12.370908Z",
     "start_time": "2021-04-12T21:56:12.032264Z"
    }
   },
   "source": [
    "## Problem #26"
   ]
  },
  {
   "cell_type": "code",
   "execution_count": 1,
   "metadata": {
    "ExecuteTime": {
     "end_time": "2021-05-04T22:49:29.514656Z",
     "start_time": "2021-05-04T22:49:29.284685Z"
    },
    "code_folding": []
   },
   "outputs": [
    {
     "name": "stdout",
     "output_type": "stream",
     "text": [
      "983\n"
     ]
    }
   ],
   "source": [
    "# Project Euler - Problem 26\n",
    "def division(d):\n",
    "    cache = []\n",
    "    decimals = \"\"\n",
    "    rem = 10\n",
    "    cont = 1\n",
    "    \n",
    "    while True:\n",
    "        if rem>=d:\n",
    "            \n",
    "            val = rem//d\n",
    "            rem = rem - val*d\n",
    "            \n",
    "            if rem not in cache:\n",
    "                cache.append(rem)\n",
    "            else:\n",
    "                for num in cache[::-1]:\n",
    "                    if num != rem:\n",
    "                        cont+=1\n",
    "                    else:\n",
    "                        break\n",
    "                break\n",
    "            \n",
    "            decimals += str(val)\n",
    "            \n",
    "            if rem == 0:\n",
    "                break\n",
    "            rem *= 10\n",
    "            \n",
    "        else:\n",
    "            cache.append(rem)\n",
    "            decimals += \"0\"\n",
    "            rem *= 10  \n",
    "            \n",
    "    return cont\n",
    "\n",
    "maxx = 0\n",
    "argmax = 0\n",
    "for i in range(2,1000):\n",
    "    cont = division(i)\n",
    "    if cont > maxx:\n",
    "        argmax = i\n",
    "        maxx = cont\n",
    "\n",
    "print(argmax)"
   ]
  },
  {
   "cell_type": "markdown",
   "metadata": {},
   "source": [
    "## Problem #27"
   ]
  },
  {
   "cell_type": "code",
   "execution_count": 2,
   "metadata": {
    "ExecuteTime": {
     "end_time": "2021-05-04T22:49:31.717689Z",
     "start_time": "2021-05-04T22:49:29.515655Z"
    }
   },
   "outputs": [
    {
     "name": "stdout",
     "output_type": "stream",
     "text": [
      "-59231\n"
     ]
    }
   ],
   "source": [
    "# Project Euler - Problem 27\n",
    "def is_prime(num, primes_cache):\n",
    "    if num < 2:\n",
    "        return False\n",
    "    if num in primes_cache:\n",
    "        return primes_cache[num]\n",
    "    for i in range(2, num//2):\n",
    "        if num%i == 0:\n",
    "            primes_cache[num] = False\n",
    "            return False\n",
    "    primes_cache[num] = True\n",
    "    return True\n",
    "   \n",
    "def quadratic(a,b,n):\n",
    "    return n**2+a*n+b\n",
    "   \n",
    "primes_cache = {}\n",
    "max_primes = -1\n",
    "\n",
    "for a in range(-1000,1000):\n",
    "    for b in range(-1000,1000):\n",
    "        cont = 0\n",
    "        while is_prime(quadratic(a,b,cont), primes_cache):\n",
    "            cont += 1\n",
    "        if cont > max_primes:\n",
    "            max_primes = cont\n",
    "            ans = a*b\n",
    "print(ans)"
   ]
  },
  {
   "cell_type": "markdown",
   "metadata": {},
   "source": [
    "## Problem #28"
   ]
  },
  {
   "cell_type": "code",
   "execution_count": 3,
   "metadata": {
    "ExecuteTime": {
     "end_time": "2021-05-04T22:49:31.733669Z",
     "start_time": "2021-05-04T22:49:31.719680Z"
    }
   },
   "outputs": [
    {
     "name": "stdout",
     "output_type": "stream",
     "text": [
      "669171001\n"
     ]
    }
   ],
   "source": [
    "# Project Euler - Problem 28\n",
    "\n",
    "grid_size = 1001\n",
    "\n",
    "big_sum = 1\n",
    "cont = 2\n",
    "current = 1\n",
    "\n",
    "for _ in range(grid_size//2):\n",
    "    for _ in range(4):\n",
    "        current += cont\n",
    "        big_sum += current\n",
    "        #print(current, big_sum, cont)\n",
    "    cont += 2\n",
    "print(big_sum)"
   ]
  },
  {
   "cell_type": "markdown",
   "metadata": {},
   "source": [
    "## Problem #29"
   ]
  },
  {
   "cell_type": "code",
   "execution_count": 4,
   "metadata": {
    "ExecuteTime": {
     "end_time": "2021-05-04T22:49:31.748692Z",
     "start_time": "2021-05-04T22:49:31.734670Z"
    }
   },
   "outputs": [],
   "source": [
    "# Project Euler - Problem 29\n",
    "#TODO"
   ]
  },
  {
   "cell_type": "markdown",
   "metadata": {},
   "source": [
    "## Problem #30"
   ]
  },
  {
   "cell_type": "code",
   "execution_count": 5,
   "metadata": {
    "ExecuteTime": {
     "end_time": "2021-05-04T22:49:31.764204Z",
     "start_time": "2021-05-04T22:49:31.749692Z"
    }
   },
   "outputs": [],
   "source": [
    "# Project Euler - Problem 30\n",
    "#TODO"
   ]
  },
  {
   "cell_type": "markdown",
   "metadata": {},
   "source": [
    "Carlo di Francescantonio - 2021"
   ]
  }
 ],
 "metadata": {
  "kernelspec": {
   "display_name": "Python 3",
   "language": "python",
   "name": "python3"
  },
  "language_info": {
   "codemirror_mode": {
    "name": "ipython",
    "version": 3
   },
   "file_extension": ".py",
   "mimetype": "text/x-python",
   "name": "python",
   "nbconvert_exporter": "python",
   "pygments_lexer": "ipython3",
   "version": "3.8.5"
  },
  "toc": {
   "base_numbering": 1,
   "nav_menu": {},
   "number_sections": false,
   "sideBar": true,
   "skip_h1_title": true,
   "title_cell": "Table of Contents",
   "title_sidebar": "Contents",
   "toc_cell": true,
   "toc_position": {
    "height": "calc(100% - 180px)",
    "left": "10px",
    "top": "150px",
    "width": "258.275px"
   },
   "toc_section_display": true,
   "toc_window_display": true
  }
 },
 "nbformat": 4,
 "nbformat_minor": 2
}
