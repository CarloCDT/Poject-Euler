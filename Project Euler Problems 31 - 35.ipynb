{
 "cells": [
  {
   "cell_type": "markdown",
   "metadata": {
    "toc": true
   },
   "source": [
    "<h1>Table of Contents<span class=\"tocSkip\"></span></h1>\n",
    "<div class=\"toc\"><ul class=\"toc-item\"><li><span><a href=\"#Problem-#31\" data-toc-modified-id=\"Problem-#31-1\">Problem #31</a></span></li><li><span><a href=\"#Problem-#32\" data-toc-modified-id=\"Problem-#32-2\">Problem #32</a></span></li><li><span><a href=\"#Problem-#33\" data-toc-modified-id=\"Problem-#33-3\">Problem #33</a></span></li><li><span><a href=\"#Problem-#34\" data-toc-modified-id=\"Problem-#34-4\">Problem #34</a></span></li><li><span><a href=\"#Problem-#35\" data-toc-modified-id=\"Problem-#35-5\">Problem #35</a></span></li></ul></div>"
   ]
  },
  {
   "cell_type": "markdown",
   "metadata": {},
   "source": [
    "# Project Euler : Problems 31 - 35"
   ]
  },
  {
   "cell_type": "markdown",
   "metadata": {
    "ExecuteTime": {
     "end_time": "2021-04-12T21:56:12.370908Z",
     "start_time": "2021-04-12T21:56:12.032264Z"
    }
   },
   "source": [
    "## Problem #31"
   ]
  },
  {
   "cell_type": "code",
   "execution_count": 1,
   "metadata": {
    "ExecuteTime": {
     "end_time": "2021-05-14T17:33:45.835819Z",
     "start_time": "2021-05-14T17:33:33.579752Z"
    },
    "code_folding": []
   },
   "outputs": [
    {
     "name": "stdout",
     "output_type": "stream",
     "text": [
      "73682\n"
     ]
    }
   ],
   "source": [
    "# Project Euler - Problem 31 (Brute Force)\n",
    "\n",
    "coins = [1, 2, 5, 10, 20, 50, 100, 200]\n",
    "cont = 0\n",
    "\n",
    "target = 200\n",
    "\n",
    "for c0 in range(200//coins[0]+1):\n",
    "    val = c0*coins[0]\n",
    "    if val>200:\n",
    "        break\n",
    "    for c1 in range(200//coins[1]+1):\n",
    "        val = c0*coins[0]+c1*coins[1]\n",
    "        if val>200:\n",
    "            break\n",
    "        for c2 in range(200//coins[2]+1):\n",
    "            val = c0*coins[0]+c1*coins[1]+c2*coins[2]\n",
    "            if val>200:\n",
    "                break\n",
    "            for c3 in range(200//coins[3]+1):\n",
    "                val = c0*coins[0]+c1*coins[1]+c2*coins[2]+ \\\n",
    "                                        c3*coins[3]\n",
    "                if val>200:\n",
    "                    break\n",
    "                for c4 in range(200//coins[4]+1):\n",
    "                    val = c0*coins[0]+c1*coins[1]+c2*coins[2]+ \\\n",
    "                                        c3*coins[3]+c4*coins[4]\n",
    "                    if val>200:\n",
    "                        break\n",
    "                    for c5 in range(200//coins[5]+1):\n",
    "                        val = c0*coins[0]+c1*coins[1]+c2*coins[2]+ \\\n",
    "                                        c3*coins[3]+c4*coins[4]+c5*coins[5]\n",
    "                        if val>200:\n",
    "                            break\n",
    "                        for c6 in range(200//coins[6]+1):\n",
    "                            val = c0*coins[0]+c1*coins[1]+c2*coins[2]+ \\\n",
    "                                        c3*coins[3]+c4*coins[4]+c5*coins[5]+c6*coins[6]\n",
    "                            if val>200:\n",
    "                                break\n",
    "                            for c7 in range(200//coins[7]+1):\n",
    "                                val = c0*coins[0]+c1*coins[1]+c2*coins[2]+ \\\n",
    "                                        c3*coins[3]+c4*coins[4]+c5*coins[5]+c6*coins[6]+c7*coins[7]\n",
    "                                if val>200:\n",
    "                                    break\n",
    "                                if val == 200:\n",
    "                                    cont += 1\n",
    "                        \n",
    "print(cont)"
   ]
  },
  {
   "cell_type": "markdown",
   "metadata": {},
   "source": [
    "## Problem #32"
   ]
  },
  {
   "cell_type": "code",
   "execution_count": 2,
   "metadata": {
    "ExecuteTime": {
     "end_time": "2021-05-14T17:33:46.646820Z",
     "start_time": "2021-05-14T17:33:45.836819Z"
    }
   },
   "outputs": [
    {
     "data": {
      "text/plain": [
       "45228"
      ]
     },
     "execution_count": 2,
     "metadata": {},
     "output_type": "execute_result"
    }
   ],
   "source": [
    "# Project Euler - Problem 32\n",
    "\n",
    "def check_pandigital(multiplicand, multiplier):\n",
    "    product = multiplicand*multiplier\n",
    "    if len(str(multiplicand))+len(str(multiplier))+len(str(product))!=9:\n",
    "        return False\n",
    "    for num in range(1,10):\n",
    "        if str(num) not in (str(multiplicand)+str(multiplier)+str(product)):\n",
    "            return False\n",
    "    return True\n",
    "\n",
    "# Calcualte a bound\n",
    "## 10**2 * 10**2 = 10**4 (Total digits > 9)\n",
    "## 1-digit * 4-digit can be 4-digit (10**4 needed)\n",
    "## 1-digit * 5-digit >= 5-digit (10**5 not needed)\n",
    "\n",
    "pandigital = set()\n",
    "\n",
    "for mult1 in range(1,10**2):\n",
    "    for mult2 in range(mult1+1,10**4):\n",
    "        if check_pandigital(mult1, mult2):\n",
    "            pandigital.add(mult1*mult2)\n",
    "\n",
    "sum(pandigital)"
   ]
  },
  {
   "cell_type": "markdown",
   "metadata": {},
   "source": [
    "## Problem #33"
   ]
  },
  {
   "cell_type": "code",
   "execution_count": 3,
   "metadata": {
    "ExecuteTime": {
     "end_time": "2021-05-14T17:33:46.662819Z",
     "start_time": "2021-05-14T17:33:46.649820Z"
    }
   },
   "outputs": [],
   "source": [
    "# Project Euler - Problem 33\n",
    "# TODO"
   ]
  },
  {
   "cell_type": "markdown",
   "metadata": {},
   "source": [
    "## Problem #34"
   ]
  },
  {
   "cell_type": "code",
   "execution_count": 4,
   "metadata": {
    "ExecuteTime": {
     "end_time": "2021-05-14T17:33:46.678819Z",
     "start_time": "2021-05-14T17:33:46.663820Z"
    }
   },
   "outputs": [],
   "source": [
    "# Project Euler - Problem 34\n",
    "# TODO"
   ]
  },
  {
   "cell_type": "markdown",
   "metadata": {},
   "source": [
    "## Problem #35"
   ]
  },
  {
   "cell_type": "code",
   "execution_count": 5,
   "metadata": {
    "ExecuteTime": {
     "end_time": "2021-05-14T17:33:46.694820Z",
     "start_time": "2021-05-14T17:33:46.679820Z"
    }
   },
   "outputs": [],
   "source": [
    "# Project Euler - Problem 35\n",
    "# TODO"
   ]
  },
  {
   "cell_type": "markdown",
   "metadata": {},
   "source": [
    "Carlo di Francescantonio - 2021"
   ]
  }
 ],
 "metadata": {
  "kernelspec": {
   "display_name": "Python 3",
   "language": "python",
   "name": "python3"
  },
  "language_info": {
   "codemirror_mode": {
    "name": "ipython",
    "version": 3
   },
   "file_extension": ".py",
   "mimetype": "text/x-python",
   "name": "python",
   "nbconvert_exporter": "python",
   "pygments_lexer": "ipython3",
   "version": "3.8.5"
  },
  "toc": {
   "base_numbering": 1,
   "nav_menu": {},
   "number_sections": false,
   "sideBar": true,
   "skip_h1_title": true,
   "title_cell": "Table of Contents",
   "title_sidebar": "Contents",
   "toc_cell": true,
   "toc_position": {
    "height": "calc(100% - 180px)",
    "left": "10px",
    "top": "150px",
    "width": "258.275px"
   },
   "toc_section_display": true,
   "toc_window_display": true
  }
 },
 "nbformat": 4,
 "nbformat_minor": 2
}
