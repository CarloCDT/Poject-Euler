{
 "cells": [
  {
   "cell_type": "markdown",
   "metadata": {},
   "source": [
    "# Project Euler : Problems 11 - 15"
   ]
  },
  {
   "cell_type": "code",
   "execution_count": 1,
   "metadata": {
    "ExecuteTime": {
     "end_time": "2020-06-11T19:55:08.389442Z",
     "start_time": "2020-06-11T19:55:08.384486Z"
    }
   },
   "outputs": [
    {
     "name": "stdout",
     "output_type": "stream",
     "text": [
      "1366\n"
     ]
    }
   ],
   "source": [
    "# Project Euler - Problem 16\n",
    "i = 1000\n",
    "value = 2**i\n",
    "string_value = str(value)\n",
    "summ = 0\n",
    "for char in string_value:\n",
    "    summ += int(char)\n",
    "print(summ)"
   ]
  },
  {
   "cell_type": "code",
   "execution_count": 2,
   "metadata": {
    "ExecuteTime": {
     "end_time": "2020-06-11T19:55:08.409389Z",
     "start_time": "2020-06-11T19:55:08.390439Z"
    }
   },
   "outputs": [
    {
     "data": {
      "text/plain": [
       "21124"
      ]
     },
     "execution_count": 2,
     "metadata": {},
     "output_type": "execute_result"
    }
   ],
   "source": [
    "# Project Euler - Problem 17\n",
    "\n",
    "digits = [\"one\",\"two\",\"three\",\"four\",\"five\",\"six\",\"seven\",\"eight\",\"nine\"]\n",
    "specials = [\"ten\",\"eleven\",\"twelve\",\"thirteen\",\"fourteen\",\"fifteen\",\"sixteen\",\"seventeen\",\"eighteen\",\"nineteen\"]\n",
    "tens = [\"twenty\",\"thirty\",\"forty\",\"fifty\",\"sixty\",\"seventy\",\"eighty\",\"ninety\"]\n",
    "\n",
    "\n",
    "numbers = []\n",
    "numbers_full = []\n",
    "\n",
    "numbers.extend(digits)\n",
    "numbers.extend(specials)\n",
    "\n",
    "for i in tens:\n",
    "    numbers.append(i)\n",
    "    for j in digits:\n",
    "        new_val = i +\" \"+ j\n",
    "        numbers.append(new_val)\n",
    "    \n",
    "        \n",
    "numbers_full = numbers.copy()\n",
    "\n",
    "for i in digits:\n",
    "    numbers_full.append(i + \" hundred\")\n",
    "    for num in numbers:\n",
    "        numbers_full.append(i + \" hundred and \" + num)\n",
    "        \n",
    "numbers_full.append(\"one thousand\")\n",
    "\n",
    "cont = 0\n",
    "\n",
    "for num in numbers_full:\n",
    "    cont += len(num.replace(\" \",\"\"))\n",
    "\n",
    "cont"
   ]
  },
  {
   "cell_type": "code",
   "execution_count": 3,
   "metadata": {
    "ExecuteTime": {
     "end_time": "2020-06-11T19:55:08.423353Z",
     "start_time": "2020-06-11T19:55:08.410386Z"
    }
   },
   "outputs": [
    {
     "data": {
      "text/plain": [
       "1074"
      ]
     },
     "execution_count": 3,
     "metadata": {},
     "output_type": "execute_result"
    }
   ],
   "source": [
    "# Project Euler - Problem 18\n",
    "\n",
    "numbers = [[75],\n",
    "[95, 64],\n",
    "[17, 47, 82],\n",
    "[18, 35, 87, 10],\n",
    "[20, 4, 82, 47, 65],\n",
    "[19, 1, 23, 75, 3, 34],\n",
    "[88, 2, 77, 73, 7, 63, 67],\n",
    "[99, 65, 4, 28, 6, 16, 70, 92],\n",
    "[41, 41, 26, 56, 83, 40, 80, 70, 33],\n",
    "[41, 48, 72, 33, 47, 32, 37, 16, 94, 29],\n",
    "[53, 71, 44, 65, 25, 43, 91, 52, 97, 51, 14],\n",
    "[70, 11, 33, 28, 77, 73, 17, 78, 39, 68, 17, 57],\n",
    "[91, 71, 52, 38, 17, 14, 91, 43, 58, 50, 27, 29, 48],\n",
    "[63, 66, 4, 68, 89, 53, 67, 30, 73, 16, 69, 87, 40, 31],\n",
    "[4, 62, 98, 27, 23, 9, 70, 98, 73, 93, 38, 53, 60, 4, 23]]\n",
    "\n",
    "for i in range(len(numbers)-2,0-1,-1):\n",
    "    for j in range(len(numbers[i])):\n",
    "        numbers[i][j] += max(numbers[i+1][j],numbers[i+1][j+1])\n",
    "numbers[0][0]"
   ]
  },
  {
   "cell_type": "code",
   "execution_count": 4,
   "metadata": {
    "ExecuteTime": {
     "end_time": "2020-06-11T19:55:08.443298Z",
     "start_time": "2020-06-11T19:55:08.424349Z"
    }
   },
   "outputs": [
    {
     "data": {
      "text/plain": [
       "171"
      ]
     },
     "execution_count": 4,
     "metadata": {},
     "output_type": "execute_result"
    }
   ],
   "source": [
    "# Project Euler - Problem 19\n",
    "\n",
    "duration_months = [31,28,31,30,31,30,31,31,30,31,30,31]\n",
    "resp = 0\n",
    "day_counter = 0\n",
    "for year in range(1900,2001):\n",
    "    duration_months_year = duration_months.copy()\n",
    "    \n",
    "    if year%4==0:\n",
    "        duration_months_year[1] += 1\n",
    "    if year%100==0:\n",
    "        duration_months_year[1] += -1\n",
    "    if year%400==0:\n",
    "        duration_months_year[1] += 1\n",
    "        \n",
    "    for month in duration_months:\n",
    "        for day in range(1,month+1):\n",
    "            \n",
    "            if day_counter%7==6 and day==1 and year>=1901:\n",
    "                resp += 1            \n",
    "            day_counter += 1\n",
    "            \n",
    "resp"
   ]
  },
  {
   "cell_type": "code",
   "execution_count": 5,
   "metadata": {
    "ExecuteTime": {
     "end_time": "2020-06-11T19:55:08.455266Z",
     "start_time": "2020-06-11T19:55:08.444295Z"
    }
   },
   "outputs": [
    {
     "data": {
      "text/plain": [
       "648"
      ]
     },
     "execution_count": 5,
     "metadata": {},
     "output_type": "execute_result"
    }
   ],
   "source": [
    "# Project Euler - Problem 20\n",
    "import math \n",
    "num = math.factorial(100)\n",
    "summ = 0\n",
    "for char in str(num):\n",
    "    summ += int(char)\n",
    "summ"
   ]
  }
 ],
 "metadata": {
  "kernelspec": {
   "display_name": "Python 3",
   "language": "python",
   "name": "python3"
  },
  "language_info": {
   "codemirror_mode": {
    "name": "ipython",
    "version": 3
   },
   "file_extension": ".py",
   "mimetype": "text/x-python",
   "name": "python",
   "nbconvert_exporter": "python",
   "pygments_lexer": "ipython3",
   "version": "3.7.3"
  },
  "toc": {
   "base_numbering": 1,
   "nav_menu": {},
   "number_sections": true,
   "sideBar": true,
   "skip_h1_title": true,
   "title_cell": "Table of Contents",
   "title_sidebar": "Contents",
   "toc_cell": false,
   "toc_position": {
    "height": "calc(100% - 180px)",
    "left": "10px",
    "top": "150px",
    "width": "258.275px"
   },
   "toc_section_display": true,
   "toc_window_display": false
  }
 },
 "nbformat": 4,
 "nbformat_minor": 2
}
